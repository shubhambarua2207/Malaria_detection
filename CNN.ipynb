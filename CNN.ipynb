{
  "nbformat": 4,
  "nbformat_minor": 0,
  "metadata": {
    "colab": {
      "name": "Untitled0.ipynb",
      "provenance": [],
      "private_outputs": true
    },
    "kernelspec": {
      "name": "python3",
      "display_name": "Python 3"
    },
    "accelerator": "GPU"
  },
  "cells": [
    {
      "cell_type": "code",
      "metadata": {
        "id": "9q8BHE1DvUPr",
        "colab_type": "code",
        "colab": {}
      },
      "source": [
        "\n",
        "from google.colab import drive\n",
        "drive.mount('/content/drive')"
      ],
      "execution_count": null,
      "outputs": []
    },
    {
      "cell_type": "code",
      "metadata": {
        "id": "MVvdavD70znt",
        "colab_type": "code",
        "colab": {}
      },
      "source": [
        "!pwd"
      ],
      "execution_count": null,
      "outputs": []
    },
    {
      "cell_type": "code",
      "metadata": {
        "id": "lDlTLg8c2Za0",
        "colab_type": "code",
        "colab": {}
      },
      "source": [
        "%cd /content/drive/My\\ Drive/colab"
      ],
      "execution_count": null,
      "outputs": []
    },
    {
      "cell_type": "code",
      "metadata": {
        "id": "wOdWkvOYO26u",
        "colab_type": "code",
        "colab": {}
      },
      "source": [
        "!ls cell_images/"
      ],
      "execution_count": null,
      "outputs": []
    },
    {
      "cell_type": "code",
      "metadata": {
        "id": "cwjqPT57PqOe",
        "colab_type": "code",
        "colab": {}
      },
      "source": [
        "!pwd\n"
      ],
      "execution_count": null,
      "outputs": []
    },
    {
      "cell_type": "code",
      "metadata": {
        "id": "m9mGm5IwYd92",
        "colab_type": "code",
        "colab": {}
      },
      "source": [
        "%reload_ext autoreload\n",
        "%autoreload 2\n",
        "%matplotlib inline"
      ],
      "execution_count": null,
      "outputs": []
    },
    {
      "cell_type": "code",
      "metadata": {
        "id": "AEkIVQYPYoxL",
        "colab_type": "code",
        "colab": {}
      },
      "source": [
        "\n",
        "import numpy as np\n",
        "import matplotlib.pyplot as plt\n",
        "from PIL import Image\n",
        "import os\n",
        "\n",
        "import torch\n",
        "from torch import nn, optim\n",
        "from torchvision import transforms, datasets, models\n",
        "from torch.utils.data.sampler import SubsetRandomSampler"
      ],
      "execution_count": null,
      "outputs": []
    },
    {
      "cell_type": "code",
      "metadata": {
        "id": "EYQ5CzVLYu7f",
        "colab_type": "code",
        "colab": {}
      },
      "source": [
        "device = torch.device(\"cuda:0\" if torch.cuda.is_available() else \"cpu\")\n",
        "device\n"
      ],
      "execution_count": null,
      "outputs": []
    },
    {
      "cell_type": "code",
      "metadata": {
        "id": "knfPHpl-ZFCP",
        "colab_type": "code",
        "colab": {}
      },
      "source": [
        "data_transforms = transforms.Compose([\n",
        "    transforms.RandomResizedCrop(64),\n",
        "    transforms.ToTensor(),\n",
        "    transforms.Normalize([0.485, 0.456, 0.406], [0.229, 0.224, 0.225])\n",
        "])\n"
      ],
      "execution_count": null,
      "outputs": []
    },
    {
      "cell_type": "code",
      "metadata": {
        "id": "MEsdPMXSZ31r",
        "colab_type": "code",
        "colab": {}
      },
      "source": [
        "data_dir = 'cell_images/'\n",
        "data = datasets.ImageFolder(data_dir, transform=data_transforms)\n"
      ],
      "execution_count": null,
      "outputs": []
    },
    {
      "cell_type": "code",
      "metadata": {
        "id": "Ud8_p5r5Z7-N",
        "colab_type": "code",
        "colab": {}
      },
      "source": [
        "valid_pct = 0.2\n",
        "test_pct = 0.1"
      ],
      "execution_count": null,
      "outputs": []
    },
    {
      "cell_type": "code",
      "metadata": {
        "id": "yesnwM4javHi",
        "colab_type": "code",
        "colab": {}
      },
      "source": [
        "data_len = len(data)\n",
        "data_indices = list(range(data_len))\n",
        "np.random.shuffle(data_indices)\n",
        "\n",
        "valid_split = int(np.floor((valid_pct) * data_len))\n",
        "test_split = int(np.floor((valid_pct + test_pct) * data_len))\n",
        "\n",
        "valid_idx, test_idx, train_idx = data_indices[:valid_split], data_indices[valid_split:test_split], data_indices[test_split:]\n",
        "\n",
        "train_sampler = SubsetRandomSampler(train_idx)\n",
        "valid_sampler = SubsetRandomSampler(valid_idx)\n",
        "test_sampler = SubsetRandomSampler(test_idx)\n",
        "\n",
        "dataloaders = {\n",
        "    'train': torch.utils.data.DataLoader(data, batch_size=64, sampler=train_sampler),\n",
        "    'valid': torch.utils.data.DataLoader(data, batch_size=32, sampler=valid_sampler),\n",
        "    'test': torch.utils.data.DataLoader(data, batch_size=20, sampler=test_sampler)\n",
        "}\n",
        "\n",
        "print(len(valid_idx), len(test_idx), len(train_idx))"
      ],
      "execution_count": null,
      "outputs": []
    },
    {
      "cell_type": "code",
      "metadata": {
        "id": "1oEq_qEbbhZt",
        "colab_type": "code",
        "colab": {}
      },
      "source": [
        "invTrans = transforms.Compose([ transforms.Normalize([ 0., 0., 0. ],[ 1/0.229, 1/0.224, 1/0.225 ]),\n",
        "                                transforms.Normalize([ -0.485, -0.456, -0.406 ],[ 1., 1., 1. ]),\n",
        "                               ])\n",
        "\n",
        "def imshow(img):\n",
        "    img = invTrans(img)\n",
        "    img = img.numpy()\n",
        "    plt.imshow(np.transpose(img, (1, 2, 0)))"
      ],
      "execution_count": null,
      "outputs": []
    },
    {
      "cell_type": "code",
      "metadata": {
        "id": "Slj3XmS_bkJQ",
        "colab_type": "code",
        "colab": {}
      },
      "source": [
        "classes=['infected','uninfected']\n",
        "\n",
        "dataiter = iter(dataloaders['train'])\n",
        "images, labels = dataiter.next()\n",
        "\n",
        "fig = plt.figure(figsize=(6, 6))\n",
        "#display 20 images\n",
        "for idx in np.arange(9):\n",
        "    ax = fig.add_subplot(3, 3, idx+1, xticks=[], yticks=[])\n",
        "    imshow(images[idx])\n",
        "    ax.set_title(classes[labels[idx]])\n",
        "plt.savefig('data_vis.png')\n"
      ],
      "execution_count": null,
      "outputs": []
    },
    {
      "cell_type": "code",
      "metadata": {
        "id": "xYvKDaY7bmtA",
        "colab_type": "code",
        "colab": {}
      },
      "source": [
        "class Net(nn.Module):\n",
        "    def __init__(self):\n",
        "        super(Net, self).__init__()\n",
        "        \n",
        "        self.layer1 = nn.Sequential(\n",
        "            nn.Conv2d(3, 16, kernel_size=3, padding=1),\n",
        "            nn.ReLU(),\n",
        "            nn.Conv2d(16, 16, kernel_size=3, padding=1),\n",
        "            nn.ReLU(),\n",
        "            nn.MaxPool2d(2),\n",
        "            nn.Conv2d(16, 32, kernel_size=3, padding=1),\n",
        "            nn.ReLU(),\n",
        "            nn.Conv2d(32, 32, kernel_size=3, padding=1),\n",
        "            nn.ReLU(),\n",
        "            nn.MaxPool2d(2),\n",
        "            nn.Conv2d(32, 64, kernel_size=3, padding=1),\n",
        "            nn.ReLU(),\n",
        "            nn.MaxPool2d(2)\n",
        "        )\n",
        "        self.fc = nn.Sequential(\n",
        "            nn.Linear(8*8*64, 500),\n",
        "            nn.ReLU(),\n",
        "            nn.Dropout(p=0.2),\n",
        "            nn.Linear(500, 100),\n",
        "            nn.ReLU(),\n",
        "            nn.Dropout(p=0.2),\n",
        "            nn.Linear(100, 2)\n",
        "        )\n",
        "    \n",
        "    def forward(self, x):\n",
        "        out = self.layer1(x)\n",
        "        out = out.view(out.shape[0], -1)\n",
        "        out = self.fc(out)\n",
        "        return out\n",
        "\n",
        "\n",
        "model_scratch = Net()\n",
        "model_scratch.to(device)"
      ],
      "execution_count": null,
      "outputs": []
    },
    {
      "cell_type": "code",
      "metadata": {
        "id": "hEHvWxN0byqU",
        "colab_type": "code",
        "colab": {}
      },
      "source": [
        "criterion_scratch = nn.CrossEntropyLoss()\n",
        "\n",
        "# optimizer_scratch = optim.SGD(model_scratch.parameters(), lr=0.001, momentum=0.9)\n",
        "optimizer_scratch = optim.Adam(model_scratch.parameters(), lr=0.001)\n"
      ],
      "execution_count": null,
      "outputs": []
    },
    {
      "cell_type": "code",
      "metadata": {
        "id": "_CGwXD-Nb5mf",
        "colab_type": "code",
        "colab": {}
      },
      "source": [
        "def train(n_epochs, loaders, model, optimizer, criterion, device, save_path):\n",
        "    \"\"\"returns trained model\"\"\"\n",
        "    # initialize tracker for minimum validation loss\n",
        "    valid_loss_min = np.Inf \n",
        "    train_losses = []\n",
        "    val_losses = []\n",
        "    print('in')\n",
        "    \n",
        "    for epoch in range(1, n_epochs+1):\n",
        "        # initialize variables to monitor training and validation loss\n",
        "        train_loss = 0.0\n",
        "        valid_loss = 0.0\n",
        "        \n",
        "        ###################\n",
        "        # train the model #\n",
        "        ###################\n",
        "        model.train()\n",
        "        for batch_idx, (data, target) in enumerate(loaders['train']):\n",
        "            # move to GPU or CPU\n",
        "            data, target = data.to(device), target.to(device)\n",
        "            print(epoch)\n",
        "            \n",
        "            ## find the loss and update the model parameters accordingly\n",
        "            ## record the average training loss as follows\n",
        "            ## train_loss = train_loss + ((1 / (batch_idx + 1)) * (loss.data - train_loss))\n",
        "            optimizer.zero_grad()\n",
        "            output = model(data)\n",
        "            loss = criterion(output, target)\n",
        "            \n",
        "            loss.backward()\n",
        "            optimizer.step()\n",
        "            \n",
        "            train_loss += ((1 / (batch_idx + 1)) * (loss.data - train_loss))\n",
        "            \n",
        "        ######################    \n",
        "        # validate the model #\n",
        "        ######################\n",
        "        model.eval()\n",
        "        for batch_idx, (data, target) in enumerate(loaders['valid']):\n",
        "            # move to GPU or CPU\n",
        "            data, target = data.to(device), target.to(device)\n",
        "            \n",
        "            ## update the average validation loss\n",
        "            output = model(data)\n",
        "            loss = criterion(output, target)\n",
        "            \n",
        "            valid_loss += ((1 / (batch_idx + 1)) * (loss.data - valid_loss))\n",
        "            \n",
        "        # print training/validation statistics \n",
        "        print('Epoch: {} \\tTraining Loss: {:.6f} \\tValidation Loss: {:.6f}'.format(\n",
        "            epoch, \n",
        "            train_loss,\n",
        "            valid_loss\n",
        "            ))\n",
        "        \n",
        "        train_losses.append(train_loss)\n",
        "        val_losses.append(valid_loss)\n",
        "        \n",
        "        if valid_loss < valid_loss_min:\n",
        "            print('Saving model..')\n",
        "            valid_loss_min = valid_loss\n",
        "            torch.save(model.state_dict(), save_path)\n",
        "    \n",
        "    # return trained model\n",
        "    return model, train_losses, val_losses\n"
      ],
      "execution_count": null,
      "outputs": []
    },
    {
      "cell_type": "code",
      "metadata": {
        "id": "IFInasMNcXOY",
        "colab_type": "code",
        "colab": {}
      },
      "source": [
        ""
      ],
      "execution_count": null,
      "outputs": []
    },
    {
      "cell_type": "code",
      "metadata": {
        "id": "UbZukQAxcMME",
        "colab_type": "code",
        "colab": {}
      },
      "source": [
        "model_scratch, train_losses, val_losses = train(20, dataloaders, model_scratch, optimizer_scratch, \n",
        "                                                criterion_scratch, device, 'models/model_scratch-img64.pt')"
      ],
      "execution_count": null,
      "outputs": []
    },
    {
      "cell_type": "code",
      "metadata": {
        "id": "hKBY_314TRE9",
        "colab_type": "code",
        "colab": {}
      },
      "source": [
        "plt.plot(train_losses, label='Training loss')\n",
        "plt.plot(val_losses, label='Validation loss')\n",
        "plt.xlabel('Iterations')\n",
        "plt.ylabel('Loss')\n",
        "plt.legend()\n",
        "_ = plt.ylim()\n",
        "# plt.title('Training Validation Loss with CNN from scratch')\n",
        "plt.savefig('Training Validation Loss with CNN from scratch.png')\n",
        "plt.show()"
      ],
      "execution_count": null,
      "outputs": []
    },
    {
      "cell_type": "code",
      "metadata": {
        "id": "ODoYE8oTsDgT",
        "colab_type": "code",
        "colab": {}
      },
      "source": [
        "model_scratch.load_state_dict(torch.load('models/model_scratch-img64.pt'))"
      ],
      "execution_count": null,
      "outputs": []
    },
    {
      "cell_type": "code",
      "metadata": {
        "id": "Sf2ImoaSs_0O",
        "colab_type": "code",
        "colab": {}
      },
      "source": [
        "def test(loaders, model, criterion, device):\n",
        "    sigmoid = lambda x: 1 / (1 + np.exp(-x))\n",
        "    \n",
        "    # monitor test loss and accuracy\n",
        "    test_loss = 0.\n",
        "    correct = 0.\n",
        "    total = 0.\n",
        "    y = None\n",
        "    y_hat = None\n",
        "    \n",
        "    model.eval()\n",
        "    for batch_idx, (data, target) in enumerate(loaders['test']):\n",
        "        # move to GPU or CPU\n",
        "        data, target = data.to(device), target.to(device)\n",
        "        \n",
        "        # forward pass: compute predicted outputs by passing inputs to the model\n",
        "        output = model(data)\n",
        "        # calculate the loss\n",
        "        loss = criterion(output, target)\n",
        "        # update average test loss \n",
        "        test_loss = test_loss + ((1 / (batch_idx + 1)) * (loss.data - test_loss))\n",
        "        # convert output probabilities to predicted class\n",
        "        pred = output.data.max(1, keepdim=True)[1]\n",
        "        \n",
        "        if y is None:\n",
        "            y = target.cpu().numpy()\n",
        "            y_hat = pred.data.cpu().view_as(target).numpy()\n",
        "        else:\n",
        "            y = np.append(y, target.cpu().numpy())\n",
        "            y_hat = np.append(y_hat, pred.data.cpu().view_as(target).numpy())\n",
        "            \n",
        "        # compare predictions to true label\n",
        "        correct += np.sum(np.squeeze(pred.eq(target.data.view_as(pred))).cpu().numpy())\n",
        "        total += data.size(0)\n",
        "            \n",
        "    print('Test Loss: {:.6f}\\n'.format(test_loss))\n",
        "\n",
        "    print('\\nTest Accuracy: %2d%% (%2d/%2d)' % (\n",
        "        100. * correct / total, correct, total))\n",
        "    \n",
        "    return y, y_hat"
      ],
      "execution_count": null,
      "outputs": []
    },
    {
      "cell_type": "code",
      "metadata": {
        "id": "YBsCiJJXtJp0",
        "colab_type": "code",
        "colab": {}
      },
      "source": [
        "y, y_hat = test(dataloaders, model_scratch, criterion_scratch, device)"
      ],
      "execution_count": null,
      "outputs": []
    },
    {
      "cell_type": "code",
      "metadata": {
        "id": "yJa4P8QotOUY",
        "colab_type": "code",
        "colab": {}
      },
      "source": [
        "from sklearn.metrics import confusion_matrix"
      ],
      "execution_count": null,
      "outputs": []
    },
    {
      "cell_type": "code",
      "metadata": {
        "id": "IWi2zSMj0PoN",
        "colab_type": "code",
        "colab": {}
      },
      "source": [
        "[[tn,fp],[fn,tp]]=confusion_matrix(y,y_hat)"
      ],
      "execution_count": null,
      "outputs": []
    },
    {
      "cell_type": "code",
      "metadata": {
        "id": "9Uw2pAm12Oa8",
        "colab_type": "code",
        "colab": {}
      },
      "source": [
        "precision=tp/(tp+fp)\n",
        "print(precision)"
      ],
      "execution_count": null,
      "outputs": []
    },
    {
      "cell_type": "code",
      "metadata": {
        "id": "5_IiAvtQASso",
        "colab_type": "code",
        "colab": {}
      },
      "source": [
        "recall=tp/(tp+fn)\n",
        "print(recall)"
      ],
      "execution_count": null,
      "outputs": []
    },
    {
      "cell_type": "code",
      "metadata": {
        "id": "3SBGlEGpAhrH",
        "colab_type": "code",
        "colab": {}
      },
      "source": [
        "f1_score=2*(precision*recall)/(precision+recall)"
      ],
      "execution_count": null,
      "outputs": []
    },
    {
      "cell_type": "code",
      "metadata": {
        "id": "_yGVT5uqAunu",
        "colab_type": "code",
        "colab": {}
      },
      "source": [
        "f1_score"
      ],
      "execution_count": null,
      "outputs": []
    },
    {
      "cell_type": "code",
      "metadata": {
        "id": "TKjXZ7cXAvvq",
        "colab_type": "code",
        "colab": {}
      },
      "source": [
        "cm=confusion_matrix(y,y_hat)"
      ],
      "execution_count": null,
      "outputs": []
    },
    {
      "cell_type": "code",
      "metadata": {
        "id": "4e5CdMd3BtIr",
        "colab_type": "code",
        "colab": {}
      },
      "source": [
        "import seaborn as sns\n"
      ],
      "execution_count": null,
      "outputs": []
    },
    {
      "cell_type": "code",
      "metadata": {
        "id": "54wEyH3cCtJf",
        "colab_type": "code",
        "colab": {}
      },
      "source": [
        "c=sns.heatmap(cm, annot=True)\n",
        "fig = c.get_figure()\n",
        "fig.savefig(\"output.png\")"
      ],
      "execution_count": null,
      "outputs": []
    },
    {
      "cell_type": "code",
      "metadata": {
        "id": "0g2WKNy8DB1-",
        "colab_type": "code",
        "colab": {}
      },
      "source": [
        ""
      ],
      "execution_count": null,
      "outputs": []
    }
  ]
}
